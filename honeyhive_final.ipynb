{
  "metadata": {
    "kernelspec": {
      "language": "python",
      "display_name": "Python 3",
      "name": "python3"
    },
    "language_info": {
      "name": "python",
      "version": "3.10.10",
      "mimetype": "text/x-python",
      "codemirror_mode": {
        "name": "ipython",
        "version": 3
      },
      "pygments_lexer": "ipython3",
      "nbconvert_exporter": "python",
      "file_extension": ".py"
    },
    "colab": {
      "provenance": []
    }
  },
  "nbformat_minor": 0,
  "nbformat": 4,
  "cells": [
    {
      "cell_type": "code",
      "source": [],
      "metadata": {
        "_uuid": "8f2839f25d086af736a60e9eeb907d3b93b6e0e5",
        "_cell_guid": "b1076dfc-b9ad-4769-8c92-a6c4dae69d19",
        "trusted": true,
        "id": "iu9pXLjwJeAG"
      },
      "execution_count": null,
      "outputs": []
    },
    {
      "cell_type": "code",
      "source": [
        "!pip install --upgrade openai pandas scikit-learn numpy"
      ],
      "metadata": {
        "execution": {
          "iopub.status.busy": "2023-06-15T11:52:52.401192Z",
          "iopub.execute_input": "2023-06-15T11:52:52.401534Z",
          "iopub.status.idle": "2023-06-15T11:52:59.882007Z",
          "shell.execute_reply.started": "2023-06-15T11:52:52.401505Z",
          "shell.execute_reply": "2023-06-15T11:52:59.880737Z"
        },
        "trusted": true,
        "id": "IQkxdiCtJeAJ",
        "outputId": "97bf0c76-d04d-421f-f520-08c1ebc038df"
      },
      "execution_count": null,
      "outputs": [
        {
          "name": "stdout",
          "text": "Requirement already satisfied: openai in /opt/conda/lib/python3.10/site-packages (0.27.8)\nRequirement already satisfied: requests>=2.20 in /opt/conda/lib/python3.10/site-packages (from openai) (2.28.2)\nRequirement already satisfied: tqdm in /opt/conda/lib/python3.10/site-packages (from openai) (4.64.1)\nRequirement already satisfied: aiohttp in /opt/conda/lib/python3.10/site-packages (from openai) (3.8.4)\nRequirement already satisfied: charset-normalizer<4,>=2 in /opt/conda/lib/python3.10/site-packages (from requests>=2.20->openai) (2.1.1)\nRequirement already satisfied: idna<4,>=2.5 in /opt/conda/lib/python3.10/site-packages (from requests>=2.20->openai) (3.4)\nRequirement already satisfied: urllib3<1.27,>=1.21.1 in /opt/conda/lib/python3.10/site-packages (from requests>=2.20->openai) (1.26.15)\nRequirement already satisfied: certifi>=2017.4.17 in /opt/conda/lib/python3.10/site-packages (from requests>=2.20->openai) (2023.5.7)\nRequirement already satisfied: attrs>=17.3.0 in /opt/conda/lib/python3.10/site-packages (from aiohttp->openai) (23.1.0)\nRequirement already satisfied: multidict<7.0,>=4.5 in /opt/conda/lib/python3.10/site-packages (from aiohttp->openai) (6.0.4)\nRequirement already satisfied: async-timeout<5.0,>=4.0.0a3 in /opt/conda/lib/python3.10/site-packages (from aiohttp->openai) (4.0.2)\nRequirement already satisfied: yarl<2.0,>=1.0 in /opt/conda/lib/python3.10/site-packages (from aiohttp->openai) (1.9.1)\nRequirement already satisfied: frozenlist>=1.1.1 in /opt/conda/lib/python3.10/site-packages (from aiohttp->openai) (1.3.3)\nRequirement already satisfied: aiosignal>=1.1.2 in /opt/conda/lib/python3.10/site-packages (from aiohttp->openai) (1.3.1)\n^C\n\u001b[31mERROR: Operation cancelled by user\u001b[0m\u001b[31m\n\u001b[0m",
          "output_type": "stream"
        }
      ]
    },
    {
      "cell_type": "code",
      "source": [],
      "metadata": {
        "trusted": true,
        "id": "sslZzRmfJeAN"
      },
      "execution_count": null,
      "outputs": []
    },
    {
      "cell_type": "code",
      "source": [
        "import json\n",
        "import openai\n",
        "import numpy as np\n",
        "import pandas as pd\n",
        "openai.api_key = ''\n"
      ],
      "metadata": {
        "execution": {
          "iopub.status.busy": "2023-06-15T11:52:59.898744Z",
          "iopub.execute_input": "2023-06-15T11:52:59.899205Z",
          "iopub.status.idle": "2023-06-15T11:52:59.912529Z",
          "shell.execute_reply.started": "2023-06-15T11:52:59.899166Z",
          "shell.execute_reply": "2023-06-15T11:52:59.910523Z"
        },
        "trusted": true,
        "id": "EEQo9ioaJeAO"
      },
      "execution_count": null,
      "outputs": []
    },
    {
      "cell_type": "markdown",
      "source": [
        "**To solve this task I have taken the following approach, Firstly I have performed basic analysis to show that there are some patterns in the data and how they affect user acceptance. Next I have designed a much better approach to understand what matters most for a user when he is evaluating text. I have found 4 metrics in this regard and I call them langauge metrics. Then I show that these metrics are useful in showing which model outputs pass. After that I have trained models to predict these metrics, these models also serve to find problematic behaviour or can be used for evaluation/improvement**"
      ],
      "metadata": {
        "id": "7ToRD8CzJeAP"
      }
    },
    {
      "cell_type": "markdown",
      "source": [
        "**Load the Dataset into a Json File and perform some basic analysis around the features and data**"
      ],
      "metadata": {
        "id": "hpjqE0lSJeAS"
      }
    },
    {
      "cell_type": "code",
      "source": [
        "dataset = json.load(open('final_mle_dataset.json'))"
      ],
      "metadata": {
        "execution": {
          "iopub.status.busy": "2023-06-15T11:52:59.929474Z",
          "iopub.execute_input": "2023-06-15T11:52:59.929863Z",
          "iopub.status.idle": "2023-06-15T11:53:01.159113Z",
          "shell.execute_reply.started": "2023-06-15T11:52:59.929832Z",
          "shell.execute_reply": "2023-06-15T11:53:01.157689Z"
        },
        "trusted": true,
        "id": "8zPp1P2rJeAT"
      },
      "execution_count": null,
      "outputs": []
    },
    {
      "cell_type": "code",
      "source": [
        "dataset[3].keys()"
      ],
      "metadata": {
        "execution": {
          "iopub.status.busy": "2023-06-15T11:53:01.173459Z",
          "iopub.execute_input": "2023-06-15T11:53:01.174063Z",
          "iopub.status.idle": "2023-06-15T11:53:01.186479Z",
          "shell.execute_reply.started": "2023-06-15T11:53:01.174021Z",
          "shell.execute_reply": "2023-06-15T11:53:01.185357Z"
        },
        "trusted": true,
        "id": "WtYiHd5TJeAU",
        "outputId": "0103cca2-db93-4f1b-e893-31ee92dccd88"
      },
      "execution_count": null,
      "outputs": [
        {
          "execution_count": 80,
          "output_type": "execute_result",
          "data": {
            "text/plain": "dict_keys(['product_name', 'product_description', 'prospect_name', 'prospect_industry', 'prospect_title', 'email', 'accepted', 'critique', 'edited', 'email_embedding', 'edited_embedding'])"
          },
          "metadata": {}
        }
      ]
    },
    {
      "cell_type": "code",
      "source": [
        "len(dataset[3]['email_embedding'])"
      ],
      "metadata": {
        "execution": {
          "iopub.status.busy": "2023-06-15T13:34:03.681986Z",
          "iopub.execute_input": "2023-06-15T13:34:03.682404Z",
          "iopub.status.idle": "2023-06-15T13:34:03.690509Z",
          "shell.execute_reply.started": "2023-06-15T13:34:03.682371Z",
          "shell.execute_reply": "2023-06-15T13:34:03.689085Z"
        },
        "trusted": true,
        "id": "zssemNTkJeAV",
        "outputId": "65840648-5d26-4657-bb47-4477b9c7e967"
      },
      "execution_count": null,
      "outputs": [
        {
          "execution_count": 160,
          "output_type": "execute_result",
          "data": {
            "text/plain": "1536"
          },
          "metadata": {}
        }
      ]
    },
    {
      "cell_type": "markdown",
      "source": [
        "**Create a version of the dataset with no embeddings for easier viewing and analysis**"
      ],
      "metadata": {
        "id": "GCgHwNz2JeAW"
      }
    },
    {
      "cell_type": "code",
      "source": [
        "dataset_no_embeddings = []\n",
        "for item in dataset:\n",
        "    copy = item.copy()\n",
        "    del copy['email_embedding']\n",
        "    del copy['edited_embedding']\n",
        "    dataset_no_embeddings.append(copy)\n"
      ],
      "metadata": {
        "execution": {
          "iopub.status.busy": "2023-06-15T11:53:01.187660Z",
          "iopub.execute_input": "2023-06-15T11:53:01.188833Z",
          "iopub.status.idle": "2023-06-15T11:53:01.202917Z",
          "shell.execute_reply.started": "2023-06-15T11:53:01.188781Z",
          "shell.execute_reply": "2023-06-15T11:53:01.202011Z"
        },
        "trusted": true,
        "id": "Qb3XN3SWJeAX"
      },
      "execution_count": null,
      "outputs": []
    },
    {
      "cell_type": "code",
      "source": [
        "dataset_no_embeddings[1]"
      ],
      "metadata": {
        "execution": {
          "iopub.status.busy": "2023-06-15T11:53:01.203995Z",
          "iopub.execute_input": "2023-06-15T11:53:01.205157Z",
          "iopub.status.idle": "2023-06-15T11:53:01.222705Z",
          "shell.execute_reply.started": "2023-06-15T11:53:01.205079Z",
          "shell.execute_reply": "2023-06-15T11:53:01.221368Z"
        },
        "trusted": true,
        "id": "pa0C8-SvJeAY",
        "outputId": "ff356c64-4c16-487f-96b7-0532c989c80a"
      },
      "execution_count": null,
      "outputs": [
        {
          "execution_count": 82,
          "output_type": "execute_result",
          "data": {
            "text/plain": "{'product_name': 'Wireless Earbuds',\n 'product_description': 'Sleek and comfortable earbuds with noise-cancellation and long battery life.',\n 'prospect_name': 'David Lee',\n 'prospect_industry': 'Finance',\n 'prospect_title': 'Financial Analyst',\n 'email': \"\\nHello David,\\n\\nI hope you are doing well! I'm a chatbot and I was wondering if you might be interested in purchasing a new set of wireless earbuds. They're sleek and comfortable and come with noise-cancellation and long battery life. I think you would really enjoy them, and I'm sure your colleagues would appreciate the peace and quiet they provide. I would be happy to give you more information about the product.\\n\\nIf you have any questions, please don't hesitate to reach out. I look forward to hearing from you soon.\\n\\nSincerely,\\n\\nYour chatbot\",\n 'accepted': False,\n 'critique': \"The email lacks a human touch and seems spammy. The opening line 'I'm a chatbot' can put off the prospect. Additionally, there's no mention of how the product can be useful to the prospect or his industry. The email needs to be personalized and relevant to the prospect.\",\n 'edited': \"Hello David,\\n\\nI hope this email finds you well. As a financial analyst, you must be constantly monitoring the market updates and coordinating with your team. I'm writing to you today to introduce our sleek and comfortable wireless earbuds that come with noise-cancellation features and long battery life, which can potentially enhance your productivity by reducing external distractions and making communication smoother with your team.\\n\\nIf you're interested in learning more about the product and how it can be useful to you, please don't hesitate to reach out. I'm looking forward to hearing from you soon.\\n\\nBest regards,\\n[Your Name]\"}"
          },
          "metadata": {}
        }
      ]
    },
    {
      "cell_type": "code",
      "source": [
        "json.dump(dataset_no_embeddings,open('out.json','w'))"
      ],
      "metadata": {
        "execution": {
          "iopub.status.busy": "2023-06-15T11:53:01.225891Z",
          "iopub.execute_input": "2023-06-15T11:53:01.226716Z",
          "iopub.status.idle": "2023-06-15T11:53:01.254995Z",
          "shell.execute_reply.started": "2023-06-15T11:53:01.226677Z",
          "shell.execute_reply": "2023-06-15T11:53:01.253753Z"
        },
        "trusted": true,
        "id": "TRRb43SBJeAZ"
      },
      "execution_count": null,
      "outputs": []
    },
    {
      "cell_type": "markdown",
      "source": [
        "**Convert the no embedding version into a dataframe**"
      ],
      "metadata": {
        "id": "c3hQIUXwJeAa"
      }
    },
    {
      "cell_type": "code",
      "source": [
        "dataset_df = pd.DataFrame.from_dict(dataset_no_embeddings)"
      ],
      "metadata": {
        "execution": {
          "iopub.status.busy": "2023-06-15T11:53:01.256339Z",
          "iopub.execute_input": "2023-06-15T11:53:01.257738Z",
          "iopub.status.idle": "2023-06-15T11:53:01.269558Z",
          "shell.execute_reply.started": "2023-06-15T11:53:01.257695Z",
          "shell.execute_reply": "2023-06-15T11:53:01.267801Z"
        },
        "trusted": true,
        "id": "p48QYuzrJeAa"
      },
      "execution_count": null,
      "outputs": []
    },
    {
      "cell_type": "code",
      "source": [
        "dataset_df.to_csv('out.csv')"
      ],
      "metadata": {
        "execution": {
          "iopub.status.busy": "2023-06-15T11:53:01.270987Z",
          "iopub.execute_input": "2023-06-15T11:53:01.271569Z",
          "iopub.status.idle": "2023-06-15T11:53:01.340556Z",
          "shell.execute_reply.started": "2023-06-15T11:53:01.271537Z",
          "shell.execute_reply": "2023-06-15T11:53:01.339290Z"
        },
        "trusted": true,
        "id": "QbUEdpPhJeAb"
      },
      "execution_count": null,
      "outputs": []
    },
    {
      "cell_type": "markdown",
      "source": [
        "**I do some analysis around what kind of data gets accepted and what features are prominent with user acceptance**"
      ],
      "metadata": {
        "id": "jw9tQHXnJeAc"
      }
    },
    {
      "cell_type": "code",
      "source": [
        "dataset_df['accepted'].value_counts().head()"
      ],
      "metadata": {
        "execution": {
          "iopub.status.busy": "2023-06-15T11:53:01.342098Z",
          "iopub.execute_input": "2023-06-15T11:53:01.342960Z",
          "iopub.status.idle": "2023-06-15T11:53:01.354210Z",
          "shell.execute_reply.started": "2023-06-15T11:53:01.342930Z",
          "shell.execute_reply": "2023-06-15T11:53:01.352767Z"
        },
        "trusted": true,
        "id": "79S2Kt_rJeAd",
        "outputId": "a069698b-3c9e-42d1-d3dc-14bf25042a1f"
      },
      "execution_count": null,
      "outputs": [
        {
          "execution_count": 86,
          "output_type": "execute_result",
          "data": {
            "text/plain": "True     524\nFalse    493\nName: accepted, dtype: int64"
          },
          "metadata": {}
        }
      ]
    },
    {
      "cell_type": "code",
      "source": [
        "dataset_df['generation_length']=dataset_df['email'].apply(lambda x:len(x.split(\" \")))\n",
        "dataset_df['desc_length'] = dataset_df['product_description'].apply(lambda x:len(x.split(\" \")))"
      ],
      "metadata": {
        "execution": {
          "iopub.status.busy": "2023-06-15T13:39:51.697455Z",
          "iopub.execute_input": "2023-06-15T13:39:51.697848Z",
          "iopub.status.idle": "2023-06-15T13:39:51.711795Z",
          "shell.execute_reply.started": "2023-06-15T13:39:51.697817Z",
          "shell.execute_reply": "2023-06-15T13:39:51.710586Z"
        },
        "trusted": true,
        "id": "jbSMrL_tJeAd"
      },
      "execution_count": null,
      "outputs": []
    },
    {
      "cell_type": "code",
      "source": [
        "accept = dataset_df[dataset_df['accepted']==True]\n",
        "reject = dataset_df[dataset_df['accepted']==False]"
      ],
      "metadata": {
        "execution": {
          "iopub.status.busy": "2023-06-15T13:40:17.442254Z",
          "iopub.execute_input": "2023-06-15T13:40:17.442606Z",
          "iopub.status.idle": "2023-06-15T13:40:17.452151Z",
          "shell.execute_reply.started": "2023-06-15T13:40:17.442577Z",
          "shell.execute_reply": "2023-06-15T13:40:17.450422Z"
        },
        "trusted": true,
        "id": "oxQlKCwaJeAe"
      },
      "execution_count": null,
      "outputs": []
    },
    {
      "cell_type": "code",
      "source": [
        "accept['prospect_industry'].value_counts().nlargest(10)"
      ],
      "metadata": {
        "execution": {
          "iopub.status.busy": "2023-06-15T13:40:29.757878Z",
          "iopub.execute_input": "2023-06-15T13:40:29.758271Z",
          "iopub.status.idle": "2023-06-15T13:40:29.768780Z",
          "shell.execute_reply.started": "2023-06-15T13:40:29.758239Z",
          "shell.execute_reply": "2023-06-15T13:40:29.768035Z"
        },
        "trusted": true,
        "id": "JhFC-dM6JeAf",
        "outputId": "7d2ebc07-9ac8-435d-a811-ef4e3197a565"
      },
      "execution_count": null,
      "outputs": [
        {
          "execution_count": 164,
          "output_type": "execute_result",
          "data": {
            "text/plain": "Healthcare       42\nEducation        33\nEntertainment    28\nFinance          27\nTechnology       26\nFitness          20\nSecurity         19\nFood             19\nEnergy           16\nMarketing        15\nName: prospect_industry, dtype: int64"
          },
          "metadata": {}
        }
      ]
    },
    {
      "cell_type": "code",
      "source": [
        "reject['prospect_industry'].value_counts().nlargest(10)"
      ],
      "metadata": {
        "execution": {
          "iopub.status.busy": "2023-06-15T13:40:30.795585Z",
          "iopub.execute_input": "2023-06-15T13:40:30.796705Z",
          "iopub.status.idle": "2023-06-15T13:40:30.806258Z",
          "shell.execute_reply.started": "2023-06-15T13:40:30.796664Z",
          "shell.execute_reply": "2023-06-15T13:40:30.805566Z"
        },
        "trusted": true,
        "id": "HTlFrty_JeAg",
        "outputId": "3360f4af-ade5-4f1a-bcc1-8741f2075169"
      },
      "execution_count": null,
      "outputs": [
        {
          "execution_count": 165,
          "output_type": "execute_result",
          "data": {
            "text/plain": "Healthcare           61\nTechnology           30\nEducation            25\nFinance              25\nHospitality          23\nSecurity             21\nFood and Beverage    19\nNone                 18\nFood                 17\nMarketing            17\nName: prospect_industry, dtype: int64"
          },
          "metadata": {}
        }
      ]
    },
    {
      "cell_type": "code",
      "source": [
        "accept['product_name'].value_counts().nlargest(10)"
      ],
      "metadata": {
        "execution": {
          "iopub.status.busy": "2023-06-15T13:40:55.982021Z",
          "iopub.execute_input": "2023-06-15T13:40:55.982440Z",
          "iopub.status.idle": "2023-06-15T13:40:55.994502Z",
          "shell.execute_reply.started": "2023-06-15T13:40:55.982409Z",
          "shell.execute_reply": "2023-06-15T13:40:55.993398Z"
        },
        "trusted": true,
        "id": "ND2hEmGHJeAh",
        "outputId": "1c29dca9-62e3-4653-c31e-5c16b8ec5eec"
      },
      "execution_count": null,
      "outputs": [
        {
          "execution_count": 166,
          "output_type": "execute_result",
          "data": {
            "text/plain": "Smart Thermostat           23\nHome Security System       20\nSmart Lock                 18\nSmart Scale                17\nVirtual Reality Headset    16\nElectric Car               15\nFitness Equipment          15\nPet Food                   12\nArt Supplies               11\nSmart Water Bottle         11\nName: product_name, dtype: int64"
          },
          "metadata": {}
        }
      ]
    },
    {
      "cell_type": "code",
      "source": [
        "reject['product_name'].value_counts().nlargest(10)"
      ],
      "metadata": {
        "execution": {
          "iopub.status.busy": "2023-06-15T13:41:03.223521Z",
          "iopub.execute_input": "2023-06-15T13:41:03.223978Z",
          "iopub.status.idle": "2023-06-15T13:41:03.235652Z",
          "shell.execute_reply.started": "2023-06-15T13:41:03.223944Z",
          "shell.execute_reply": "2023-06-15T13:41:03.233914Z"
        },
        "trusted": true,
        "id": "K3WkzOVWJeAi",
        "outputId": "794f6dfd-694c-4df2-cbcc-3df34390570b"
      },
      "execution_count": null,
      "outputs": [
        {
          "execution_count": 167,
          "output_type": "execute_result",
          "data": {
            "text/plain": "Fitness Tracker         21\nSmart Lock              19\nBaby Products           19\nSmart Thermostat        18\nSmart Speaker           17\nOutdoor Gear            15\nKitchen Appliances      12\nFitness Equipment       12\nSmart Refrigerator      11\nHome Security System    11\nName: product_name, dtype: int64"
          },
          "metadata": {}
        }
      ]
    },
    {
      "cell_type": "code",
      "source": [
        "print(\" generation length for accpeted \", accept['generation_length'].mean(), \" generation length for rejected \",reject['generation_length'].mean())"
      ],
      "metadata": {
        "execution": {
          "iopub.status.busy": "2023-06-15T13:51:29.571808Z",
          "iopub.execute_input": "2023-06-15T13:51:29.572204Z",
          "iopub.status.idle": "2023-06-15T13:51:29.579087Z",
          "shell.execute_reply.started": "2023-06-15T13:51:29.572171Z",
          "shell.execute_reply": "2023-06-15T13:51:29.577836Z"
        },
        "trusted": true,
        "id": "z7qJXBGJJeAj",
        "outputId": "f3a8c745-d68d-4d0a-8220-2e1f8b005ba3"
      },
      "execution_count": null,
      "outputs": [
        {
          "name": "stdout",
          "text": " generation length for accpeted  96.15458015267176  generation length for rejected  100.08316430020284\n",
          "output_type": "stream"
        }
      ]
    },
    {
      "cell_type": "code",
      "source": [
        "print(\" product desc length for accpeted \", accept['desc_length'].mean(), \" product desc length for rejected \",reject['desc_length'].mean())"
      ],
      "metadata": {
        "execution": {
          "iopub.status.busy": "2023-06-15T13:52:02.181827Z",
          "iopub.execute_input": "2023-06-15T13:52:02.182222Z",
          "iopub.status.idle": "2023-06-15T13:52:02.189703Z",
          "shell.execute_reply.started": "2023-06-15T13:52:02.182192Z",
          "shell.execute_reply": "2023-06-15T13:52:02.188113Z"
        },
        "trusted": true,
        "id": "4mVmfakpJeAk",
        "outputId": "75955292-b8d4-4b1a-f2b0-83fc3e25336d"
      },
      "execution_count": null,
      "outputs": [
        {
          "name": "stdout",
          "text": " product desc length for accpeted  10.223282442748092  product desc length for rejected  10.117647058823529\n",
          "output_type": "stream"
        }
      ]
    },
    {
      "cell_type": "markdown",
      "source": [
        "In The above analysis we observe that there are some patterns in which products are more likely to be rejected by users, one could say that something like a fitness tracker is more likely to be rejected as we see its the top rejected product or prospects from healthcare are also much more likely to reject a generated email. We can try to find more patterns around mentions of which word in the description or title can lead to a rejection. Using these features we could learn to classify a piece of text as that would be accepted or rejected. That model could then provide insights on what features work and which features dont work. This is one direction to take the analysis further however I believe there is a completely different reason to why some generated texts get rejected and when they dont get rejected."
      ],
      "metadata": {
        "id": "lMfxPsBUJeAl"
      }
    },
    {
      "cell_type": "markdown",
      "source": [
        "**Second type of Analysis**\n",
        "\n",
        "I believe its important to observe that the user has provided critique on why the text gets rejectd, explaining thier reasons. In my opinion we can develop a much more generalizable approach when we look at the critique and try to find problems with the text rather than focusing on impact of certain product names or keywords on the user acceptance. Lets say in future we get a user who wants to generate short descriptions for a book given its prologue. For this user it wouldnt make sense to look specific features like product names etc. To summarize, an approach to find why a prompt/model output fails should extend beyond analysis around specific keywords.\n",
        "\n",
        "When we want to learn why a model output has failed we want to look at the language and if the generated text has fullfilled the users expectation, since for this dataset we have the user critique we can use that for this analysis. After going through a number of data points we can see that the user thinks that the generated text is bad when it doesnt meet one of the following criteria. I also like to call these langauge metrics.\n",
        "\n",
        "1. conciseness\n",
        "2. language quality/Grammar\n",
        "3. empathy\n",
        "4. personalized/Relevance\n",
        "\n",
        "From my qualitative analysis we can see that user wants the text to be really concise and easy to read, the text should be clear in what it wants to convey. Secondly, the user wants the LLM to generate text that is of high quality and that has no errors. Next, the from the critique's really cares about how emapthetic is the text, they want the generated text to strike a connection with the reader, the text should be comforting and friendly. Finally, the user cares about how personalized the text is. They dont want the readers to think that this is some template text.\n",
        "\n",
        "From the user responses I have found these metrics to be crucial to the user and whenever the text doesnt meet this criteria, the user points it out and rejects the text. But we have a problem here, even though these metrics are encoded in user's response there is no easy way to extract it from the text. One way would be to label the data manually but since I didnt have time for that I have used gpt-3.5-turbo to find the numeric labels from the critique by using this prompt below.\n",
        "\n"
      ],
      "metadata": {
        "id": "9A4TJ31TJeAm"
      }
    },
    {
      "cell_type": "markdown",
      "source": [
        "**prompting gpt to find the labels around language features like empathy etc**"
      ],
      "metadata": {
        "id": "xPk8yJDBJeAn"
      }
    },
    {
      "cell_type": "code",
      "source": [
        "def generate_prompt(text,critique):\n",
        "    prompt = f\"\"\"You have recieved a piece of text generated by a LLM ('text') and there is critique for that text provided as well ('critique'), your job is to now rate it based on the criteria using the text and its critique:\n",
        "\n",
        "1. conciseness\n",
        "2. language quality/Grammar\n",
        "3. empathy\n",
        "4. personalized/Relevance\n",
        "\n",
        "Give a rating in the range of 0-1 depending how much the text fullfills the criteria . Also respond only with the ratings for each provided text and critique as metric:rating.\n",
        "\n",
        "  'TEXT': {text}\n",
        " 'critique': {critique}\n",
        "\"\"\"\n",
        "    return prompt\n",
        "\n",
        "def call_openai(prompt):\n",
        "    MODEL = \"gpt-3.5-turbo\"\n",
        "    response = openai.ChatCompletion.create(\n",
        "        model=MODEL,\n",
        "        messages=[\n",
        "            {\"role\": \"system\", \"content\": prompt},\n",
        "        ],\n",
        "        temperature=0,\n",
        "    )\n",
        "\n",
        "    return response['choices'][0]['message']['content']\n",
        "\n",
        "\n",
        "\n",
        "\n",
        "\n",
        "# file = json.load(open('out.json','r'))\n",
        "# output = []\n",
        "# for idx,item in tqdm(enumerate(file),total=1017):\n",
        "#     text = item['email']\n",
        "#     critique = item['critique']\n",
        "#     if critique=='':\n",
        "#         continue\n",
        "#     prompt = generate_prompt(text,critique)\n",
        "#     labels = call_openai(prompt)\n",
        "#     item['labels']=labels\n",
        "#     output.append(item)\n",
        "#     json.dump(output,open('final_2.json','w'))\n",
        ""
      ],
      "metadata": {
        "execution": {
          "iopub.status.busy": "2023-06-15T11:53:01.445571Z",
          "iopub.execute_input": "2023-06-15T11:53:01.446002Z",
          "iopub.status.idle": "2023-06-15T11:53:01.452874Z",
          "shell.execute_reply.started": "2023-06-15T11:53:01.445966Z",
          "shell.execute_reply": "2023-06-15T11:53:01.451583Z"
        },
        "trusted": true,
        "id": "c5LfiJoDJeAn"
      },
      "execution_count": null,
      "outputs": []
    },
    {
      "cell_type": "markdown",
      "source": [
        "I experimented with a number of prompts and outputs for GPT and then finalized on this one. In my experimentations I saw that GPT does better when I ask it generate ratings with the name of the metric and it does alot better when it can pick values in the range of 0-1. Furthermore I also experimented with if it should generate explainations or chain of thought prompting but due to lack of time I settled on this approach. I have made available the output jsons from GPT with the labels."
      ],
      "metadata": {
        "id": "txHty4XJJeAo"
      }
    },
    {
      "cell_type": "code",
      "source": [
        "\"\"\"Processing the new labels from GPT's output\"\"\"\n",
        "def process_label(text):\n",
        "    components = text.split(\"\\n\")\n",
        "    out= {}\n",
        "    for it in components[:4]:\n",
        "        f= it.split(\" \")\n",
        "        metric = f[0]\n",
        "        score = f[-1]\n",
        "        out[metric]= float(score)\n",
        "    return out\n",
        "\n",
        "\n",
        "generated_dataset_1 = json.load(open('final.json','r'))\n",
        "generated_dataset_2 = json.load(open('final_2.json','r'))\n",
        "\n",
        "generated_dataset=[]\n",
        "generated_dataset.extend(generated_dataset_1)\n",
        "generated_dataset.extend(generated_dataset_2)\n",
        "\n",
        "\n",
        "for data_point in generated_dataset:\n",
        "    gen_data = data_point['labels']\n",
        "    scores = process_label(gen_data)\n",
        "    data_point.update(scores)\n",
        "    del data_point['labels']\n",
        "\n",
        "generated_df = pd.DataFrame.from_dict(generated_dataset)\n",
        "\n",
        "\n"
      ],
      "metadata": {
        "execution": {
          "iopub.status.busy": "2023-06-15T11:53:04.863399Z",
          "iopub.status.idle": "2023-06-15T11:53:04.863760Z",
          "shell.execute_reply.started": "2023-06-15T11:53:04.863571Z",
          "shell.execute_reply": "2023-06-15T11:53:04.863586Z"
        },
        "trusted": true,
        "id": "6QmwsG9VJeAp"
      },
      "execution_count": null,
      "outputs": []
    },
    {
      "cell_type": "code",
      "source": [
        "dataset_embeddings = []\n",
        "for item in dataset:\n",
        "    if item['critique']=='':\n",
        "        continue\n",
        "    dataset_embeddings.append(item)\n"
      ],
      "metadata": {
        "execution": {
          "iopub.status.busy": "2023-06-15T11:53:04.865095Z",
          "iopub.status.idle": "2023-06-15T11:53:04.865431Z",
          "shell.execute_reply.started": "2023-06-15T11:53:04.865283Z",
          "shell.execute_reply": "2023-06-15T11:53:04.865300Z"
        },
        "trusted": true,
        "id": "-LcDSJE0JeAq"
      },
      "execution_count": null,
      "outputs": []
    },
    {
      "cell_type": "code",
      "source": [
        "embeddings = [item['email_embedding'] for item in dataset_embeddings]"
      ],
      "metadata": {
        "execution": {
          "iopub.status.busy": "2023-06-15T11:53:04.866311Z",
          "iopub.status.idle": "2023-06-15T11:53:04.866662Z",
          "shell.execute_reply.started": "2023-06-15T11:53:04.866490Z",
          "shell.execute_reply": "2023-06-15T11:53:04.866505Z"
        },
        "trusted": true,
        "id": "8wfA1PtQJeAr"
      },
      "execution_count": null,
      "outputs": []
    },
    {
      "cell_type": "code",
      "source": [
        "generated_df['embeddings']=embeddings"
      ],
      "metadata": {
        "execution": {
          "iopub.status.busy": "2023-06-15T11:53:04.867407Z",
          "iopub.status.idle": "2023-06-15T11:53:04.867752Z",
          "shell.execute_reply.started": "2023-06-15T11:53:04.867571Z",
          "shell.execute_reply": "2023-06-15T11:53:04.867586Z"
        },
        "trusted": true,
        "id": "rVfr7rn5JeAr"
      },
      "execution_count": null,
      "outputs": []
    },
    {
      "cell_type": "code",
      "source": [
        "generated_df"
      ],
      "metadata": {
        "execution": {
          "iopub.status.busy": "2023-06-15T12:08:26.684523Z",
          "iopub.execute_input": "2023-06-15T12:08:26.684982Z",
          "iopub.status.idle": "2023-06-15T12:08:26.724159Z",
          "shell.execute_reply.started": "2023-06-15T12:08:26.684949Z",
          "shell.execute_reply": "2023-06-15T12:08:26.722679Z"
        },
        "trusted": true,
        "id": "y3MPWJ2NJeAs",
        "outputId": "11b45a69-e2fe-4afc-ebe5-776d605189cd"
      },
      "execution_count": null,
      "outputs": [
        {
          "execution_count": 112,
          "output_type": "execute_result",
          "data": {
            "text/plain": "               product_name  \\\n0           Fitness Tracker   \n1          Wireless Earbuds   \n2          Smart Thermostat   \n3                Smart Lock   \n4          Wireless Charger   \n..                      ...   \n861  Personal Care Products   \n862      Electronic Gadgets   \n863                 Jewelry   \n864            Organic Food   \n865         Beauty Services   \n\n                                   product_description    prospect_name  \\\n0    A wearable device that tracks your daily activ...     Emily Nguyen   \n1    Sleek and comfortable earbuds with noise-cance...        David Lee   \n2    A thermostat that learns your preferred temper...        Sarah Kim   \n3    A keyless lock that can be controlled remotely...    Michael Brown   \n4    A convenient wireless charger that can charge ...     Karen Wilson   \n..                                                 ...              ...   \n861  Natural and organic personal care products for...    Katie Johnson   \n862  The latest and greatest electronic gadgets for...      David Brown   \n863      Stunning and unique jewelry for any occasion.     Sophia Davis   \n864  Fresh and organic food for health-conscious co...  William Johnson   \n865  Professional beauty services for special occas...       Olivia Lee   \n\n     prospect_industry      prospect_title  \\\n0           Healthcare  Nurse Practitioner   \n1              Finance   Financial Analyst   \n2            Education             Teacher   \n3             Security    Security Officer   \n4            Marketing   Marketing Manager   \n..                 ...                 ...   \n861         Healthcare               Nurse   \n862         Technology   Software Engineer   \n863             Retail     Sales Associate   \n864  Food and Beverage     Restaurant Chef   \n865             Beauty       Makeup Artist   \n\n                                                 email accepted  \\\n0    \\nHello Emily,\\n\\nThank you for your email! I ...    False   \n1    \\nHello David,\\n\\nI hope you are doing well! I...    False   \n2    \\nHello Sarah,\\n\\nThank you for reaching out t...    False   \n3    \\nHello Michael,\\n\\nI hope this email finds yo...    False   \n4    \\nHello Karen,\\n\\nThank you for considering ou...    False   \n..                                                 ...      ...   \n861  \\nHello Katie Johnson,\\n\\nThank you for your i...     True   \n862  \\nHi David,\\n\\nHope you're doing well! I'm a c...    False   \n863  \\nDear Sophia,\\n\\nThank you for taking the tim...    False   \n864  \\nHello William Johnson,\\n\\nThank you for your...    False   \n865  \\nHello Olivia,\\n\\nThank you for your interest...     True   \n\n                                              critique  \\\n0    The email does not address Emily's needs. It a...   \n1    The email lacks a human touch and seems spammy...   \n2    The email fails to provide any information tha...   \n3    The email is too formal and robotic. It doesn'...   \n4    The email does not provide any relevant inform...   \n..                                                 ...   \n861  The email is well-written, concise and relevan...   \n862  The email feels too generic and lacks empathy ...   \n863  The email lacks personalization and does not s...   \n864  The email is too generic and lacks any persona...   \n865  The email is well-written and concise. However...   \n\n                                                edited  conciseness:  \\\n0    Hello Emily,\\n\\nI was thrilled to receive your...           1.0   \n1    Hello David,\\n\\nI hope this email finds you we...           1.0   \n2    Hi Sarah, Thank you for showing interest in ou...           1.0   \n3    Hi Michael,\\n\\nI hope this email finds you wel...           0.8   \n4    Hello Karen,\\n\\nAs a Marketing Manager, we und...           0.8   \n..                                                 ...           ...   \n861  Hello Katie Johnson,\\n\\nThank you for your int...           1.0   \n862  Dear David,\\n\\nI hope this email finds you wel...           0.8   \n863  Hello Sophia,\\n\\nThank you for your inquiry. I...           1.0   \n864  Dear William Johnson,\\n\\nAs a restaurant chef ...           1.0   \n865  Hello Olivia,\\n\\nAs a makeup artist, we unders...           1.0   \n\n     language  empathy:  personalized/Relevance:  \\\n0         1.0       0.2                     0.30   \n1         1.0       0.2                     0.20   \n2         1.0       0.0                     0.00   \n3         0.9       0.2                     0.30   \n4         0.9       0.5                     0.20   \n..        ...       ...                      ...   \n861       1.0       0.5                     0.50   \n862       0.9       0.2                     0.30   \n863       1.0       0.0                     0.20   \n864       1.0       0.5                     0.25   \n865       1.0       0.5                     0.50   \n\n                                            embeddings  \n0    [-0.0205299723893404, 0.010440289042890072, 0....  \n1    [-0.02587042935192585, 0.008525044657289982, -...  \n2    [-0.01127349678426981, -0.0051771956495940685,...  \n3    [-0.016323497518897057, -0.01875770278275013, ...  \n4    [-0.00021778080554213375, 0.008959198370575905...  \n..                                                 ...  \n861  [0.014148660935461521, 0.015647681429982185, -...  \n862  [-0.027653204277157784, 0.013073998503386974, ...  \n863  [-0.008785529062151909, -0.0050754239782691, 0...  \n864  [0.011533858254551888, -0.01323461439460516, -...  \n865  [0.0004031826974824071, 0.00469603668898344, 0...  \n\n[866 rows x 14 columns]",
            "text/html": "<div>\n<style scoped>\n    .dataframe tbody tr th:only-of-type {\n        vertical-align: middle;\n    }\n\n    .dataframe tbody tr th {\n        vertical-align: top;\n    }\n\n    .dataframe thead th {\n        text-align: right;\n    }\n</style>\n<table border=\"1\" class=\"dataframe\">\n  <thead>\n    <tr style=\"text-align: right;\">\n      <th></th>\n      <th>product_name</th>\n      <th>product_description</th>\n      <th>prospect_name</th>\n      <th>prospect_industry</th>\n      <th>prospect_title</th>\n      <th>email</th>\n      <th>accepted</th>\n      <th>critique</th>\n      <th>edited</th>\n      <th>conciseness:</th>\n      <th>language</th>\n      <th>empathy:</th>\n      <th>personalized/Relevance:</th>\n      <th>embeddings</th>\n    </tr>\n  </thead>\n  <tbody>\n    <tr>\n      <th>0</th>\n      <td>Fitness Tracker</td>\n      <td>A wearable device that tracks your daily activ...</td>\n      <td>Emily Nguyen</td>\n      <td>Healthcare</td>\n      <td>Nurse Practitioner</td>\n      <td>\\nHello Emily,\\n\\nThank you for your email! I ...</td>\n      <td>False</td>\n      <td>The email does not address Emily's needs. It a...</td>\n      <td>Hello Emily,\\n\\nI was thrilled to receive your...</td>\n      <td>1.0</td>\n      <td>1.0</td>\n      <td>0.2</td>\n      <td>0.30</td>\n      <td>[-0.0205299723893404, 0.010440289042890072, 0....</td>\n    </tr>\n    <tr>\n      <th>1</th>\n      <td>Wireless Earbuds</td>\n      <td>Sleek and comfortable earbuds with noise-cance...</td>\n      <td>David Lee</td>\n      <td>Finance</td>\n      <td>Financial Analyst</td>\n      <td>\\nHello David,\\n\\nI hope you are doing well! I...</td>\n      <td>False</td>\n      <td>The email lacks a human touch and seems spammy...</td>\n      <td>Hello David,\\n\\nI hope this email finds you we...</td>\n      <td>1.0</td>\n      <td>1.0</td>\n      <td>0.2</td>\n      <td>0.20</td>\n      <td>[-0.02587042935192585, 0.008525044657289982, -...</td>\n    </tr>\n    <tr>\n      <th>2</th>\n      <td>Smart Thermostat</td>\n      <td>A thermostat that learns your preferred temper...</td>\n      <td>Sarah Kim</td>\n      <td>Education</td>\n      <td>Teacher</td>\n      <td>\\nHello Sarah,\\n\\nThank you for reaching out t...</td>\n      <td>False</td>\n      <td>The email fails to provide any information tha...</td>\n      <td>Hi Sarah, Thank you for showing interest in ou...</td>\n      <td>1.0</td>\n      <td>1.0</td>\n      <td>0.0</td>\n      <td>0.00</td>\n      <td>[-0.01127349678426981, -0.0051771956495940685,...</td>\n    </tr>\n    <tr>\n      <th>3</th>\n      <td>Smart Lock</td>\n      <td>A keyless lock that can be controlled remotely...</td>\n      <td>Michael Brown</td>\n      <td>Security</td>\n      <td>Security Officer</td>\n      <td>\\nHello Michael,\\n\\nI hope this email finds yo...</td>\n      <td>False</td>\n      <td>The email is too formal and robotic. It doesn'...</td>\n      <td>Hi Michael,\\n\\nI hope this email finds you wel...</td>\n      <td>0.8</td>\n      <td>0.9</td>\n      <td>0.2</td>\n      <td>0.30</td>\n      <td>[-0.016323497518897057, -0.01875770278275013, ...</td>\n    </tr>\n    <tr>\n      <th>4</th>\n      <td>Wireless Charger</td>\n      <td>A convenient wireless charger that can charge ...</td>\n      <td>Karen Wilson</td>\n      <td>Marketing</td>\n      <td>Marketing Manager</td>\n      <td>\\nHello Karen,\\n\\nThank you for considering ou...</td>\n      <td>False</td>\n      <td>The email does not provide any relevant inform...</td>\n      <td>Hello Karen,\\n\\nAs a Marketing Manager, we und...</td>\n      <td>0.8</td>\n      <td>0.9</td>\n      <td>0.5</td>\n      <td>0.20</td>\n      <td>[-0.00021778080554213375, 0.008959198370575905...</td>\n    </tr>\n    <tr>\n      <th>...</th>\n      <td>...</td>\n      <td>...</td>\n      <td>...</td>\n      <td>...</td>\n      <td>...</td>\n      <td>...</td>\n      <td>...</td>\n      <td>...</td>\n      <td>...</td>\n      <td>...</td>\n      <td>...</td>\n      <td>...</td>\n      <td>...</td>\n      <td>...</td>\n    </tr>\n    <tr>\n      <th>861</th>\n      <td>Personal Care Products</td>\n      <td>Natural and organic personal care products for...</td>\n      <td>Katie Johnson</td>\n      <td>Healthcare</td>\n      <td>Nurse</td>\n      <td>\\nHello Katie Johnson,\\n\\nThank you for your i...</td>\n      <td>True</td>\n      <td>The email is well-written, concise and relevan...</td>\n      <td>Hello Katie Johnson,\\n\\nThank you for your int...</td>\n      <td>1.0</td>\n      <td>1.0</td>\n      <td>0.5</td>\n      <td>0.50</td>\n      <td>[0.014148660935461521, 0.015647681429982185, -...</td>\n    </tr>\n    <tr>\n      <th>862</th>\n      <td>Electronic Gadgets</td>\n      <td>The latest and greatest electronic gadgets for...</td>\n      <td>David Brown</td>\n      <td>Technology</td>\n      <td>Software Engineer</td>\n      <td>\\nHi David,\\n\\nHope you're doing well! I'm a c...</td>\n      <td>False</td>\n      <td>The email feels too generic and lacks empathy ...</td>\n      <td>Dear David,\\n\\nI hope this email finds you wel...</td>\n      <td>0.8</td>\n      <td>0.9</td>\n      <td>0.2</td>\n      <td>0.30</td>\n      <td>[-0.027653204277157784, 0.013073998503386974, ...</td>\n    </tr>\n    <tr>\n      <th>863</th>\n      <td>Jewelry</td>\n      <td>Stunning and unique jewelry for any occasion.</td>\n      <td>Sophia Davis</td>\n      <td>Retail</td>\n      <td>Sales Associate</td>\n      <td>\\nDear Sophia,\\n\\nThank you for taking the tim...</td>\n      <td>False</td>\n      <td>The email lacks personalization and does not s...</td>\n      <td>Hello Sophia,\\n\\nThank you for your inquiry. I...</td>\n      <td>1.0</td>\n      <td>1.0</td>\n      <td>0.0</td>\n      <td>0.20</td>\n      <td>[-0.008785529062151909, -0.0050754239782691, 0...</td>\n    </tr>\n    <tr>\n      <th>864</th>\n      <td>Organic Food</td>\n      <td>Fresh and organic food for health-conscious co...</td>\n      <td>William Johnson</td>\n      <td>Food and Beverage</td>\n      <td>Restaurant Chef</td>\n      <td>\\nHello William Johnson,\\n\\nThank you for your...</td>\n      <td>False</td>\n      <td>The email is too generic and lacks any persona...</td>\n      <td>Dear William Johnson,\\n\\nAs a restaurant chef ...</td>\n      <td>1.0</td>\n      <td>1.0</td>\n      <td>0.5</td>\n      <td>0.25</td>\n      <td>[0.011533858254551888, -0.01323461439460516, -...</td>\n    </tr>\n    <tr>\n      <th>865</th>\n      <td>Beauty Services</td>\n      <td>Professional beauty services for special occas...</td>\n      <td>Olivia Lee</td>\n      <td>Beauty</td>\n      <td>Makeup Artist</td>\n      <td>\\nHello Olivia,\\n\\nThank you for your interest...</td>\n      <td>True</td>\n      <td>The email is well-written and concise. However...</td>\n      <td>Hello Olivia,\\n\\nAs a makeup artist, we unders...</td>\n      <td>1.0</td>\n      <td>1.0</td>\n      <td>0.5</td>\n      <td>0.50</td>\n      <td>[0.0004031826974824071, 0.00469603668898344, 0...</td>\n    </tr>\n  </tbody>\n</table>\n<p>866 rows × 14 columns</p>\n</div>"
          },
          "metadata": {}
        }
      ]
    },
    {
      "cell_type": "markdown",
      "source": [
        "We will do some analysis to see how the new labels correlate with the acceptance feature."
      ],
      "metadata": {
        "id": "PAmsr834JeAt"
      }
    },
    {
      "cell_type": "code",
      "source": [
        "accept_df = generated_df[generated_df['accepted']==True]\n",
        "reject_df = generated_df[generated_df['accepted']==False]"
      ],
      "metadata": {
        "execution": {
          "iopub.status.busy": "2023-06-15T14:44:21.831830Z",
          "iopub.execute_input": "2023-06-15T14:44:21.832205Z",
          "iopub.status.idle": "2023-06-15T14:44:21.839968Z",
          "shell.execute_reply.started": "2023-06-15T14:44:21.832178Z",
          "shell.execute_reply": "2023-06-15T14:44:21.838779Z"
        },
        "trusted": true,
        "id": "WH6T2LJhJeAt"
      },
      "execution_count": null,
      "outputs": []
    },
    {
      "cell_type": "code",
      "source": [
        "print(\"average conciseness in accepted \",accept_df['conciseness:'].mean(),\" average conciseness in rejected \",reject_df['conciseness:'].mean())"
      ],
      "metadata": {
        "execution": {
          "iopub.status.busy": "2023-06-15T14:49:53.242405Z",
          "iopub.execute_input": "2023-06-15T14:49:53.242861Z",
          "iopub.status.idle": "2023-06-15T14:49:53.250841Z",
          "shell.execute_reply.started": "2023-06-15T14:49:53.242828Z",
          "shell.execute_reply": "2023-06-15T14:49:53.249056Z"
        },
        "trusted": true,
        "id": "9kRoFZksJeAu",
        "outputId": "a4567094-1b60-4fae-c6b1-801c09a3ff39"
      },
      "execution_count": null,
      "outputs": [
        {
          "name": "stdout",
          "text": "average conciseness in accepted  0.9402144772117964  average conciseness in rejected  0.8503042596348885\n",
          "output_type": "stream"
        }
      ]
    },
    {
      "cell_type": "code",
      "source": [
        "print(\"average quality in accepted \",accept_df['language'].mean(),\" average quality in rejected \",reject_df['language'].mean())"
      ],
      "metadata": {
        "execution": {
          "iopub.status.busy": "2023-06-15T14:49:53.375843Z",
          "iopub.execute_input": "2023-06-15T14:49:53.376884Z",
          "iopub.status.idle": "2023-06-15T14:49:53.384695Z",
          "shell.execute_reply.started": "2023-06-15T14:49:53.376844Z",
          "shell.execute_reply": "2023-06-15T14:49:53.382665Z"
        },
        "trusted": true,
        "id": "38Mo5nAxJeBO",
        "outputId": "660e1650-6c21-4141-e8b8-bb64621ca554"
      },
      "execution_count": null,
      "outputs": [
        {
          "name": "stdout",
          "text": "average quality in accepted  0.9552278820375335  average quality in rejected  0.9036511156186614\n",
          "output_type": "stream"
        }
      ]
    },
    {
      "cell_type": "code",
      "source": [
        "print(\"average empathy in accepted \",accept_df['empathy:'].mean(),\" average empathy in rejected \",reject_df['empathy:'].mean())"
      ],
      "metadata": {
        "execution": {
          "iopub.status.busy": "2023-06-15T14:49:53.538522Z",
          "iopub.execute_input": "2023-06-15T14:49:53.539251Z",
          "iopub.status.idle": "2023-06-15T14:49:53.547112Z",
          "shell.execute_reply.started": "2023-06-15T14:49:53.539206Z",
          "shell.execute_reply": "2023-06-15T14:49:53.545396Z"
        },
        "trusted": true,
        "id": "Rh4glumtJeBO",
        "outputId": "146bba91-3720-4b37-df3b-e58d03b76598"
      },
      "execution_count": null,
      "outputs": [
        {
          "name": "stdout",
          "text": "average empathy in accepted  0.6225201072386058  average empathy in rejected  0.22920892494929007\n",
          "output_type": "stream"
        }
      ]
    },
    {
      "cell_type": "code",
      "source": [
        "print(\"average relevance in accepted \",accept_df['personalized/Relevance:'].mean(),\" average relevance in rejected \",reject_df['personalized/Relevance:'].mean())"
      ],
      "metadata": {
        "execution": {
          "iopub.status.busy": "2023-06-15T14:49:53.704797Z",
          "iopub.execute_input": "2023-06-15T14:49:53.705965Z",
          "iopub.status.idle": "2023-06-15T14:49:53.711778Z",
          "shell.execute_reply.started": "2023-06-15T14:49:53.705927Z",
          "shell.execute_reply": "2023-06-15T14:49:53.710911Z"
        },
        "trusted": true,
        "id": "cAkzus0hJeBP",
        "outputId": "98f66017-e163-45ca-8ee4-986133e2ae36"
      },
      "execution_count": null,
      "outputs": [
        {
          "name": "stdout",
          "text": "average relevance in accepted  0.6986595174262735  average relevance in rejected  0.27038539553752533\n",
          "output_type": "stream"
        }
      ]
    },
    {
      "cell_type": "markdown",
      "source": [
        "In the above analysis we see that there is higher acceptance with higher empathy and higher personalization, we also see that accepted texts have slightly higher conciseness and higher quality of language. I beleive these are the features we should use to understand which outputs fail and which dont. These features can be extended to any kind of generated text and they can be generalized to other prompts as well. These features set the foundation of what makes a LLM generated text useful to a user."
      ],
      "metadata": {
        "id": "cfAw2nBhJeBQ"
      }
    },
    {
      "cell_type": "code",
      "source": [
        "\"\"\"To further Drive the point home to show the importance of the features we can use them to predict the acceptance of a user\"\"\""
      ],
      "metadata": {
        "execution": {
          "iopub.status.busy": "2023-06-15T11:53:04.870272Z",
          "iopub.status.idle": "2023-06-15T11:53:04.870600Z",
          "shell.execute_reply.started": "2023-06-15T11:53:04.870416Z",
          "shell.execute_reply": "2023-06-15T11:53:04.870460Z"
        },
        "trusted": true,
        "id": "KtpcvrcbJeBQ"
      },
      "execution_count": null,
      "outputs": []
    },
    {
      "cell_type": "code",
      "source": [
        "from sklearn.model_selection import train_test_split\n",
        "\n",
        "X_train, X_test= train_test_split(generated_df, test_size=0.20)\n"
      ],
      "metadata": {
        "execution": {
          "iopub.status.busy": "2023-06-15T14:55:17.537483Z",
          "iopub.execute_input": "2023-06-15T14:55:17.537853Z",
          "iopub.status.idle": "2023-06-15T14:55:17.545325Z",
          "shell.execute_reply.started": "2023-06-15T14:55:17.537826Z",
          "shell.execute_reply": "2023-06-15T14:55:17.544085Z"
        },
        "trusted": true,
        "id": "GfL5LJ8VJeBR"
      },
      "execution_count": null,
      "outputs": []
    },
    {
      "cell_type": "code",
      "source": [
        "from xgboost import XGBClassifier\n",
        "from sklearn.metrics import classification_report\n",
        "accepted_model = XGBClassifier()\n",
        "accepted_model.fit(X_train[['conciseness:','language','empathy:','personalized/Relevance:']],X_train['accepted'].astype(int))\n",
        "yhat = accepted_model.predict(X_test[['conciseness:','language','empathy:','personalized/Relevance:']])\n",
        "print(classification_report(X_test['accepted'].astype(int),yhat))"
      ],
      "metadata": {
        "execution": {
          "iopub.status.busy": "2023-06-15T14:55:18.192342Z",
          "iopub.execute_input": "2023-06-15T14:55:18.192717Z",
          "iopub.status.idle": "2023-06-15T14:55:18.258600Z",
          "shell.execute_reply.started": "2023-06-15T14:55:18.192688Z",
          "shell.execute_reply": "2023-06-15T14:55:18.257571Z"
        },
        "trusted": true,
        "id": "NfAxrkfTJeBR",
        "outputId": "5856bfcf-f0ed-4d55-aa66-459db2f343ff"
      },
      "execution_count": null,
      "outputs": [
        {
          "name": "stdout",
          "text": "              precision    recall  f1-score   support\n\n           0       0.97      0.97      0.97       105\n           1       0.96      0.96      0.96        69\n\n    accuracy                           0.97       174\n   macro avg       0.96      0.96      0.96       174\nweighted avg       0.97      0.97      0.97       174\n\n",
          "output_type": "stream"
        }
      ]
    },
    {
      "cell_type": "code",
      "source": [
        "from xgboost import plot_importance\n",
        "\n",
        "plot_importance(accepted_model)\n"
      ],
      "metadata": {
        "execution": {
          "iopub.status.busy": "2023-06-15T14:55:19.659476Z",
          "iopub.execute_input": "2023-06-15T14:55:19.660178Z",
          "iopub.status.idle": "2023-06-15T14:55:19.855247Z",
          "shell.execute_reply.started": "2023-06-15T14:55:19.660150Z",
          "shell.execute_reply": "2023-06-15T14:55:19.853937Z"
        },
        "trusted": true,
        "id": "GlxAdSASJeBS",
        "outputId": "735e3e93-d067-445e-c95e-1177dc32c394"
      },
      "execution_count": null,
      "outputs": [
        {
          "execution_count": 182,
          "output_type": "execute_result",
          "data": {
            "text/plain": "<Axes: title={'center': 'Feature importance'}, xlabel='F score', ylabel='Features'>"
          },
          "metadata": {}
        },
        {
          "output_type": "display_data",
          "data": {
            "text/plain": "<Figure size 640x480 with 1 Axes>",
            "image/png": "[encoded data removed]"
          },
          "metadata": {}
        }
      ]
    },
    {
      "cell_type": "markdown",
      "source": [
        "In the above results and the plot we see that firstly the model does quite well on the task and these features are a good indicator of acceptance, which is good for us. Secondly from the feature importance graph we learn something interesting, we can observe that model believes that personalization is the most important feature so if a piece of text is personalized towards the reader, it has a higher chance of passing. Second most important feature happens to be emapthy and how empathetic is the text, so this is also helpful, because if you want a user to like the text it should be empathetic. Apart from these two conciseness matters but not as much. Finally we observe that language quality matters quite less, but I believe this is an issue as most of generated outputs have good quality and if we did have low quality texts, this feature would matter just as much."
      ],
      "metadata": {
        "id": "U8_BIz8FJeBT"
      }
    },
    {
      "cell_type": "markdown",
      "source": [
        "Now we have learnt when an output will fail but what if want to analyze the model outputs? We wont always have critique available to us. To solve this problem we can learn regression models that predict the language metrics. Using the labelled data generated above we can learn a model to do this task for us. This model can be used in future without any critique to predict the empathy, relevance etc of any text. So by these models we can analyze model outputs for problematic behaviours. Furthermore as we will see below these models can be used to improve the prompt and the model as they carry the information of human alignment. These language metric predictors are actually similar to reward models."
      ],
      "metadata": {
        "id": "EOhle-jPJeBT"
      }
    },
    {
      "cell_type": "markdown",
      "source": [
        "**train language metric predictors**"
      ],
      "metadata": {
        "id": "Ztr2aOfcJeBT"
      }
    },
    {
      "cell_type": "code",
      "source": [
        "train_data = [i for i in X_train['embeddings'].values]\n",
        "test_data = [i for i in X_test['embeddings'].values]\n",
        "train_data = np.vstack(train_data)\n",
        "test_data = np.vstack(test_data)\n"
      ],
      "metadata": {
        "execution": {
          "iopub.status.busy": "2023-06-15T13:12:04.117381Z",
          "iopub.execute_input": "2023-06-15T13:12:04.117782Z",
          "iopub.status.idle": "2023-06-15T13:12:04.206032Z",
          "shell.execute_reply.started": "2023-06-15T13:12:04.117752Z",
          "shell.execute_reply": "2023-06-15T13:12:04.204102Z"
        },
        "trusted": true,
        "id": "rkiKW3GiJeBU"
      },
      "execution_count": null,
      "outputs": []
    },
    {
      "cell_type": "code",
      "source": [
        "from xgboost import XGBRegressor\n",
        "from sklearn.metrics import mean_squared_error\n",
        "from sklearn.metrics import mean_absolute_error\n",
        "from sklearn.neural_network import MLPRegressor\n",
        "\n",
        "empathy_model = XGBRegressor()\n",
        "empathy_model.fit(train_data, X_train['conciseness:'])\n",
        "yhat = empathy_model.predict(test_data)\n",
        "print(\"MSE \",mean_squared_error(X_test['conciseness:'].values, yhat))"
      ],
      "metadata": {
        "execution": {
          "iopub.status.busy": "2023-06-15T13:12:55.176894Z",
          "iopub.execute_input": "2023-06-15T13:12:55.177364Z",
          "iopub.status.idle": "2023-06-15T13:13:02.368040Z",
          "shell.execute_reply.started": "2023-06-15T13:12:55.177330Z",
          "shell.execute_reply": "2023-06-15T13:13:02.367388Z"
        },
        "trusted": true,
        "id": "4wJbEgb1JeBU",
        "outputId": "d1c9c8fe-e0db-4c8b-8aa4-3a2cc5409309"
      },
      "execution_count": null,
      "outputs": [
        {
          "name": "stdout",
          "text": "MSE  0.01936733509396409\n",
          "output_type": "stream"
        }
      ]
    },
    {
      "cell_type": "code",
      "source": [
        "empathy_model = MLPRegressor(random_state=1, max_iter=500)\n",
        "empathy_model.fit(train_data, X_train['language'])\n",
        "yhat = empathy_model.predict(test_data)\n",
        "print(\"MSE \",mean_squared_error(X_test['language'].values, yhat))"
      ],
      "metadata": {
        "execution": {
          "iopub.status.busy": "2023-06-15T13:13:02.369466Z",
          "iopub.execute_input": "2023-06-15T13:13:02.370235Z",
          "iopub.status.idle": "2023-06-15T13:13:03.010378Z",
          "shell.execute_reply.started": "2023-06-15T13:13:02.370209Z",
          "shell.execute_reply": "2023-06-15T13:13:03.009606Z"
        },
        "trusted": true,
        "id": "o1n02KDWJeBV",
        "outputId": "64516115-64ea-4b5e-b74b-3a1d6449a0f1"
      },
      "execution_count": null,
      "outputs": [
        {
          "name": "stdout",
          "text": "MSE  0.008814938775283788\n",
          "output_type": "stream"
        }
      ]
    },
    {
      "cell_type": "code",
      "source": [
        "empathy_model = MLPRegressor(random_state=1, max_iter=500)\n",
        "empathy_model.fit(train_data, X_train['empathy:'])\n",
        "yhat = empathy_model.predict(test_data)\n",
        "print(\"MSE \",mean_squared_error(X_test['empathy:'].values, yhat))"
      ],
      "metadata": {
        "execution": {
          "iopub.status.busy": "2023-06-15T13:13:03.013878Z",
          "iopub.execute_input": "2023-06-15T13:13:03.016408Z",
          "iopub.status.idle": "2023-06-15T13:13:07.517542Z",
          "shell.execute_reply.started": "2023-06-15T13:13:03.016373Z",
          "shell.execute_reply": "2023-06-15T13:13:07.516570Z"
        },
        "trusted": true,
        "id": "l6c3CuLGJeBV",
        "outputId": "defa8cc5-af36-4e29-f36d-2a1d74ccafc0"
      },
      "execution_count": null,
      "outputs": [
        {
          "name": "stdout",
          "text": "MSE  0.09845080062169546\n",
          "output_type": "stream"
        }
      ]
    },
    {
      "cell_type": "code",
      "source": [
        "empathy_model.fit(train_data, X_train['personalized/Relevance:'])\n",
        "yhat = empathy_model.predict(test_data)\n",
        "print(\"MSE \",mean_squared_error(X_test['personalized/Relevance:'].values, yhat))"
      ],
      "metadata": {
        "execution": {
          "iopub.status.busy": "2023-06-15T13:13:07.519767Z",
          "iopub.execute_input": "2023-06-15T13:13:07.520471Z",
          "iopub.status.idle": "2023-06-15T13:13:11.763610Z",
          "shell.execute_reply.started": "2023-06-15T13:13:07.520440Z",
          "shell.execute_reply": "2023-06-15T13:13:11.762732Z"
        },
        "trusted": true,
        "id": "yFkXOAbPJeBV",
        "outputId": "4bc7a29d-5c38-4578-ad88-bc7830b1f8f9"
      },
      "execution_count": null,
      "outputs": [
        {
          "name": "stdout",
          "text": "MSE  0.0983875359826605\n",
          "output_type": "stream"
        }
      ]
    },
    {
      "cell_type": "markdown",
      "source": [
        "I have trained one model for every predictor, however from the early results they are fairly average in performance. I suspect that these models are not doing a very good job of predicting these features because there is not enough data available to use, right now the email embedding is 1536 but we only have 1017 ( 866 due to some having no critiques) samples. If we have more data I am confident that we can train better and more performant models to predict langauge metrics from the embeddings."
      ],
      "metadata": {
        "id": "WQlIHyGrJeBW"
      }
    },
    {
      "cell_type": "markdown",
      "source": [
        "If I assume in future we are successfull in training these models that capture human alignment and can rate each text for its empathy, etc. Then we can use them to find model outputs with problematic behaviours. As we saw above its super important that a text meets these metrics and our models will do just that for us."
      ],
      "metadata": {
        "id": "gEKTGvEiJeBW"
      }
    },
    {
      "cell_type": "markdown",
      "source": [
        "To quickly summarize the analysis until now\n",
        "\n",
        "1. Provide a topic analysis on what kinds of inputs and outputs the prompt template fails on\n",
        "\n",
        "For this analysis I have shown that rather than using specific keywords we should follow specific language metrics. This can include things like empathy etc, we show that these language metrics are good at understanding acceptance. We can also see which of these language metrics are most important according to a trained xgboost model, so using this analysis we can see where and why each output failed and how it didnt meet the metric.\n",
        "\n",
        "\n",
        "2. Analyze the model outputs for problematic behaviors\n",
        "\n",
        "To do this we again rely on the concept of languag metrics but now I have trained specific regression models that capture these metrics and try to predict them. These would come in handy when you have no critique but want to see how the model performs on certain language metrics furthermore for a new text we can generate langauge metrics and then use them in the earlier trained xgboost model to predict user acceptance. That makes these models quite useful in telling us how much a user would like a new piece of generated text. If we get a new model output we can rate it on our langauge metrics easily.\n",
        "\n",
        "I'all answer these questions below\n",
        "\n",
        "3. Suggest improvements to the original prompt template\n",
        "4. Suggest evaluation criteria to compare prompt templates"
      ],
      "metadata": {
        "id": "x6JKDmvNJeBX"
      }
    },
    {
      "cell_type": "markdown",
      "source": [
        "3. Suggest improvements to the original prompt template\n",
        "\n",
        ">1.Initially looking at the model outputs we can tell that there are some obvious flaws, alot of the model outputs sound robotic and have not been written from the behalf of a human and readers dont like this. A simple hack would be to tell the model to write as a human who is empathetic and wants to build a personal connection. If we tell the LLM to write the text in a certain way it can follow that as well. So we can add mentions that we want the text to be empathetic and the tone should be very friendly. There might be some experimentations required on how this information should be added. Furthermore, we should tell it that the text should form a connection with the user. Overall, adding more context and detail is always helpful to the LLM. Finally a good tip is to add demonstrations, in the original prompt we can first simulate a conversation and show the LLM how to respond to these kind of questions, LLMs have been shown to perform few shot in context learning well, so adding demonstrations is helpful. Finally we can look at prompt and think if there is any tokenization issue in the prompt, any issues like that can change the meaning of the word to the LLM. We can experiment with methods that improve prompts through users output next.\n",
        "\n",
        ">2.lets now think around how we can improve a prompt template given we have critique from the user. We can use LLMs themselves to improve a prompt. We can use a simple prompt like this to edit a prompt\n",
        "\n",
        "prompt = \"\"\" Assume you are a person who is guiding a large language model to become better. you have been provided a prompt that was used to generate a output, On the given output there is also feedback on how the large language model can do better. Now your job is to take this feedback and make edits or additions in the original prompt so that when the large language model generates some new text, it resolves all shortcomings from the feedback\n",
        "\n",
        "prompt={}\n",
        "generated_text={}\n",
        "feedback={}\n",
        "\n",
        "Respond with the edited prompt that you think incorporates feedback well. \"\"\"\n",
        "\n",
        "> 3.This is a very basic example of what that prompt would look like, however we can use more advanced versions as well and experiment alot. Now it may be the case that you dont always have user feedback and you still want to improve the prompts. We can use the langauge metric predictors here! So lets say for a model output we get predictions, now we can provide those in a prompt in a way like \" an external method has rated the output on the X metric with this score Z, make improvements to the prompt so that we can get a better score on the metric\"\n",
        "\n",
        ">4.Finally we can also use recent research RL based methods like https://arxiv.org/abs/2305.03495, these methods use a metric and then use beam search to search for a prompt that can optimize the metrics. For us we can use the language metric predictors in this scenario. If we can use self deployed LLMs we can also use methods like soft prompts to edit a prompt, this method performs gradient descent on the prompt to change it so that it does better on a metric.\n",
        "\n"
      ],
      "metadata": {
        "id": "6Di3TOErJeBX"
      }
    },
    {
      "cell_type": "markdown",
      "source": [
        "4. Suggest evaluation criteria to compare prompt templates\n",
        "\n",
        "> 1.When we are comparing prompt templates we can look at thier model generations to asses thier performance. We can use simple methods like METEOR, BLEU that match synonyms, ngrams etc to generate a score. However there is generally less correlation of these methods with actual human evaluation. Because of these reasons people have resorted to using LLMs themselves to rate text. A method like this https://arxiv.org/abs/2303.16634 uses chain of thought reasoning to evaluate a prompts output using GPT4. In this papaer they ask the model to generate evaluation steps and then asks it to use them to rate a model on coherence. We can do the same with our data where we can build prompts that can first ask the model to understand the text and then evaluate it.\n",
        "\n",
        "> 2.A second method can be to finetune LLMs to rate a model output if we have user data available. This is how RLHF systems train reward models that can help in aligning model outputs. In our case if we get more data we can finetune an LLM to rate outputs. I have tried to follow a similar approach to build language metric perdictors, however more data is required for this approach.\n",
        "\n",
        ">3.In this analysis I have trained a model to predict user acceptance, we can use that to score a prompt.\n",
        "\n",
        ">4.A pretty extreme option but the most reliable one is a human study. This study will also generate data that can be used for model training later."
      ],
      "metadata": {
        "id": "6WgSmBAbJeBX"
      }
    },
    {
      "cell_type": "code",
      "source": [],
      "metadata": {
        "trusted": true,
        "id": "xiTgjDzvJeBY"
      },
      "execution_count": null,
      "outputs": []
    },
    {
      "cell_type": "code",
      "source": [],
      "metadata": {
        "trusted": true,
        "id": "-wZBcQLJJeBY"
      },
      "execution_count": null,
      "outputs": []
    },
    {
      "cell_type": "code",
      "source": [],
      "metadata": {
        "id": "Apjjz3eeJeBY"
      },
      "execution_count": null,
      "outputs": []
    }
  ]
}